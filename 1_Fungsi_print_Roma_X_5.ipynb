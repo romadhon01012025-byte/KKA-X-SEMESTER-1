{
  "nbformat": 4,
  "nbformat_minor": 0,
  "metadata": {
    "colab": {
      "provenance": [],
      "toc_visible": true,
      "authorship_tag": "ABX9TyP470S9xBhWdw1A+Gbac59A",
      "include_colab_link": true
    },
    "kernelspec": {
      "name": "python3",
      "display_name": "Python 3"
    },
    "language_info": {
      "name": "python"
    }
  },
  "cells": [
    {
      "cell_type": "markdown",
      "metadata": {
        "id": "view-in-github",
        "colab_type": "text"
      },
      "source": [
        "<a href=\"https://colab.research.google.com/github/romadhon01012025-byte/KKA-X-SEMESTER-1/blob/main/1_Fungsi_print_Roma_X_5.ipynb\" target=\"_parent\"><img src=\"https://colab.research.google.com/assets/colab-badge.svg\" alt=\"Open In Colab\"/></a>"
      ]
    },
    {
      "cell_type": "code",
      "execution_count": null,
      "metadata": {
        "colab": {
          "base_uri": "https://localhost:8080/"
        },
        "id": "Ip4KbPiceJs7",
        "outputId": "c36e721c-cfc8-492f-b545-041f35f913d1"
      },
      "outputs": [
        {
          "output_type": "stream",
          "name": "stdout",
          "text": [
            "hello world\n"
          ]
        }
      ],
      "source": [
        "print(\"hello world\")"
      ]
    },
    {
      "cell_type": "code",
      "source": [
        "print(\"sahrur romadhon\")"
      ],
      "metadata": {
        "colab": {
          "base_uri": "https://localhost:8080/"
        },
        "id": "ENSmyZyviiPJ",
        "outputId": "f923c64c-e9bf-404e-8438-ce5ec0115d88"
      },
      "execution_count": null,
      "outputs": [
        {
          "output_type": "stream",
          "name": "stdout",
          "text": [
            "sahrur romadhon\n"
          ]
        }
      ]
    },
    {
      "cell_type": "markdown",
      "source": [
        "#2. menampilkan nilai variabel"
      ],
      "metadata": {
        "id": "FAoMi0t3kF3Y"
      }
    },
    {
      "cell_type": "code",
      "source": [
        "beratbadan = 45\n",
        "print(beratbadan)"
      ],
      "metadata": {
        "colab": {
          "base_uri": "https://localhost:8080/"
        },
        "id": "PpoAvRXQlSgM",
        "outputId": "bfc38849-5dd9-4a8e-cd01-f081bfac979c"
      },
      "execution_count": null,
      "outputs": [
        {
          "output_type": "stream",
          "name": "stdout",
          "text": [
            "45\n"
          ]
        }
      ]
    },
    {
      "cell_type": "code",
      "source": [],
      "metadata": {
        "id": "hdHxzT4fptaX"
      },
      "execution_count": null,
      "outputs": []
    },
    {
      "cell_type": "code",
      "source": [
        "tinggibadan = 100\n",
        "print(tinggibadan)"
      ],
      "metadata": {
        "colab": {
          "base_uri": "https://localhost:8080/"
        },
        "id": "BCnCK-XNmlfQ",
        "outputId": "7bf0b43c-2ba6-4273-ca10-205ad8681f63"
      },
      "execution_count": null,
      "outputs": [
        {
          "output_type": "stream",
          "name": "stdout",
          "text": [
            "100\n"
          ]
        }
      ]
    },
    {
      "cell_type": "code",
      "source": [
        "nama = \"sahrur romadhon\"\n",
        "\n",
        "print(nama)"
      ],
      "metadata": {
        "colab": {
          "base_uri": "https://localhost:8080/"
        },
        "id": "rmcEbYiMnBl4",
        "outputId": "2718c9d2-5b60-4b2b-c21f-67db66ed2750"
      },
      "execution_count": null,
      "outputs": [
        {
          "output_type": "stream",
          "name": "stdout",
          "text": [
            "sahrur romadhon\n"
          ]
        }
      ]
    },
    {
      "cell_type": "code",
      "source": [
        "print(f\"halo nama saya {nama}. berat badan saya {beratbadan} kg.\")"
      ],
      "metadata": {
        "colab": {
          "base_uri": "https://localhost:8080/"
        },
        "id": "sJCvBXvenPZt",
        "outputId": "32ba2618-f5f5-4d2a-fe72-5c98c0d15277"
      },
      "execution_count": null,
      "outputs": [
        {
          "output_type": "stream",
          "name": "stdout",
          "text": [
            "halo nama saya sahrur romadhon. berat badan saya 45 kg.\n"
          ]
        }
      ]
    },
    {
      "cell_type": "markdown",
      "source": [],
      "metadata": {
        "id": "-FWCou7Rpcsx"
      }
    },
    {
      "cell_type": "code",
      "source": [
        "nama = \"ayah mamak\"\n",
        "print (nama)"
      ],
      "metadata": {
        "colab": {
          "base_uri": "https://localhost:8080/"
        },
        "id": "dMR7kVfhnZQ-",
        "outputId": "c654751d-0718-4817-ad3a-370e8d3ca6fa"
      },
      "execution_count": null,
      "outputs": [
        {
          "output_type": "stream",
          "name": "stdout",
          "text": [
            "ayah mamak\n"
          ]
        }
      ]
    },
    {
      "cell_type": "markdown",
      "source": [
        "#1. menampilkan teks bebas"
      ],
      "metadata": {
        "id": "G-h1ufMjgImf"
      }
    },
    {
      "cell_type": "code",
      "source": [
        "print(\"halo nama saya\", nama,\". berat badan saya\",beratbadan,\"kg.\")"
      ],
      "metadata": {
        "colab": {
          "base_uri": "https://localhost:8080/"
        },
        "id": "ir0ITJQilebo",
        "outputId": "7ce2434e-1fc8-451b-d388-af73a6ba8827"
      },
      "execution_count": null,
      "outputs": [
        {
          "output_type": "stream",
          "name": "stdout",
          "text": [
            "halo nama saya ayah mamak . berat badan saya 45 kg.\n"
          ]
        }
      ]
    },
    {
      "cell_type": "code",
      "source": [
        "print(\"halo nama saya \"+ nama+\". berat badan saya \"+str(beratbadan)+\" kg.\")"
      ],
      "metadata": {
        "colab": {
          "base_uri": "https://localhost:8080/"
        },
        "id": "QCfB-cnKmwKn",
        "outputId": "ec9edc33-cb96-43f9-a541-dcdd88ec16fc"
      },
      "execution_count": null,
      "outputs": [
        {
          "output_type": "stream",
          "name": "stdout",
          "text": [
            "halo nama saya ayah mamak. berat badan saya 45 kg.\n"
          ]
        }
      ]
    },
    {
      "cell_type": "code",
      "source": [
        "print(\"\"\"nama\\t\\t: sahrur romadhon\n",
        "kelas\\t\\t: X.5\n",
        "no. absen\\t: 29\"\"\")"
      ],
      "metadata": {
        "colab": {
          "base_uri": "https://localhost:8080/"
        },
        "id": "ij32KyGHqlHV",
        "outputId": "a4d5adba-7254-49da-8c28-21c46ef6eaef"
      },
      "execution_count": null,
      "outputs": [
        {
          "output_type": "stream",
          "name": "stdout",
          "text": [
            "nama\t\t: sahrur romadhon\n",
            "kelas\t\t: X.5\n",
            "no. absen\t: 29\n"
          ]
        }
      ]
    },
    {
      "cell_type": "code",
      "source": [
        "print ( 'nama saya ja\\'far shodiq' )"
      ],
      "metadata": {
        "colab": {
          "base_uri": "https://localhost:8080/"
        },
        "id": "RYKIxwbZrFSi",
        "outputId": "e3d6aa2c-a18e-4155-f1a8-23b809bb2683"
      },
      "execution_count": null,
      "outputs": [
        {
          "output_type": "stream",
          "name": "stdout",
          "text": [
            "nama saya ja'far shodiq\n"
          ]
        }
      ]
    },
    {
      "cell_type": "code",
      "source": [
        "\n",
        "nama_siswa_1 = \"Jielo\"\n",
        "\n",
        "nama_siswa_2 = \"Aida\"\n",
        "\n",
        "nama_siswa_3 = \"Dani\"\n",
        "\n",
        "nama_siswa_4 = \"Nurul\"\n",
        "\n",
        "print ('nama_siswa_1', sep=\"_\")\n",
        "Nurul/Aida/Jielo/Dani\n",
        "\"\"\""
      ],
      "metadata": {
        "colab": {
          "base_uri": "https://localhost:8080/",
          "height": 141
        },
        "id": "63lxtmbJrFoC",
        "outputId": "656e2829-9f55-4916-8efd-1b1185c202f2"
      },
      "execution_count": null,
      "outputs": [
        {
          "output_type": "error",
          "ename": "SyntaxError",
          "evalue": "incomplete input (ipython-input-3901058732.py, line 11)",
          "traceback": [
            "\u001b[0;36m  File \u001b[0;32m\"/tmp/ipython-input-3901058732.py\"\u001b[0;36m, line \u001b[0;32m11\u001b[0m\n\u001b[0;31m    \"\"\"\u001b[0m\n\u001b[0m    ^\u001b[0m\n\u001b[0;31mSyntaxError\u001b[0m\u001b[0;31m:\u001b[0m incomplete input\n"
          ]
        }
      ]
    }
  ]
}